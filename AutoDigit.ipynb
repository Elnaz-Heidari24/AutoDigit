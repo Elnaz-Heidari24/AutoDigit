{
 "cells": [
  {
   "cell_type": "code",
   "execution_count": 2,
   "id": "abf4a0d7-5ae0-4558-858a-f0cfc6802dba",
   "metadata": {},
   "outputs": [],
   "source": [
    "import cv2\n",
    "import numpy as np\n",
    "import rasterio\n",
    "\n",
    "# Read the TIFF file\n",
    "image = cv2.imread(\"./VanDijk.tif\")\n",
    "\n",
    "# Convert image to RGB color space\n",
    "image_rgb = cv2.cvtColor(image, cv2.COLOR_BGR2RGB)\n",
    "\n",
    "# Define lower and upper bounds for red color\n",
    "lower_red = np.array([200, 70, 0])\n",
    "upper_red = np.array([255, 120, 70])\n",
    "\n",
    "# Threshold the image to get regions of red color\n",
    "mask = cv2.inRange(image_rgb, lower_red, upper_red)\n",
    "\n",
    "# Optionally, perform edge detection\n",
    "edges = cv2.Canny(mask, 50, 150)\n",
    "\n",
    "# Get spatial information from the input image\n",
    "with rasterio.open(\"./VanDijk.tif\") as src:\n",
    "    profile = src.profile\n",
    "\n",
    "# Save the detected lines as a TIFF file with the same spatial information\n",
    "with rasterio.open('detected_lines.tif', 'w', **profile) as dst:\n",
    "    dst.write(edges, 1)"
   ]
  }
 ],
 "metadata": {
  "kernelspec": {
   "display_name": "Python 3 (ipykernel)",
   "language": "python",
   "name": "python3"
  },
  "language_info": {
   "codemirror_mode": {
    "name": "ipython",
    "version": 3
   },
   "file_extension": ".py",
   "mimetype": "text/x-python",
   "name": "python",
   "nbconvert_exporter": "python",
   "pygments_lexer": "ipython3",
   "version": "3.11.7"
  }
 },
 "nbformat": 4,
 "nbformat_minor": 5
}
