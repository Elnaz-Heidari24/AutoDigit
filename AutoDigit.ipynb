{
 "cells": [
  {
   "cell_type": "code",
   "execution_count": 4,
   "id": "abf4a0d7-5ae0-4558-858a-f0cfc6802dba",
   "metadata": {},
   "outputs": [],
   "source": [
    "import cv2\n",
    "import numpy as np\n",
    "import rasterio\n",
    "\n",
    "# Read the TIFF file\n",
    "image = cv2.imread(\"./VanDijk.tif\")\n",
    "\n",
    "# Convert image to RGB color space\n",
    "image_rgb = cv2.cvtColor(image, cv2.COLOR_BGR2RGB)\n",
    "\n",
    "# Define lower and upper bounds for red color\n",
    "lower_red = np.array([200, 70, 0])\n",
    "upper_red = np.array([255, 120, 70])\n",
    "\n",
    "# Threshold the image to get regions of red color\n",
    "mask = cv2.inRange(image_rgb, lower_red, upper_red)\n",
    "\n",
    "# Optionally, perform edge detection\n",
    "edges = cv2.Canny(mask, 50, 150)\n",
    "\n",
    "# Get spatial information from the input image\n",
    "with rasterio.open(\"./VanDijk.tif\") as src:\n",
    "    profile = src.profile\n",
    "\n",
    "# Save the detected lines as a TIFF file with the same spatial information\n",
    "with rasterio.open('detected_lines2.tif', 'w', **profile) as dst:\n",
    "    dst.write(edges, 1)"
   ]
  },
  {
   "cell_type": "code",
   "execution_count": 7,
   "id": "b7216538-42e6-424c-b8f7-b56440664d99",
   "metadata": {},
   "outputs": [
    {
     "name": "stdout",
     "output_type": "stream",
     "text": [
      "Shapefile saved successfully.\n"
     ]
    }
   ],
   "source": [
    "import rasterio\n",
    "from rasterio.features import shapes\n",
    "import fiona\n",
    "from shapely.geometry import shape, LineString, Polygon\n",
    "\n",
    "# Read the detected_lines.tif file\n",
    "with rasterio.open('detected_lines2.tif') as src:\n",
    "    # Read raster data as numpy array\n",
    "    data = src.read(1)\n",
    "\n",
    "    # Find the pixels with the specified RGB value (255, 0, 0)\n",
    "    indices = (data == 255)\n",
    "\n",
    "    # Get the shapes (contours) of the detected lines\n",
    "    results = (\n",
    "        {'properties': {'raster_val': v}, 'geometry': s}\n",
    "        for i, (s, v) in enumerate(\n",
    "            shapes(data, mask=indices, transform=src.transform)))\n",
    "\n",
    "    # Convert pixel coordinates to spatial coordinates\n",
    "    shapes_geo = []\n",
    "    for result in results:\n",
    "        geom = shape(result['geometry'])\n",
    "        # If the geometry is a polygon, convert it to a linestring\n",
    "        if geom.geom_type == 'Polygon':\n",
    "            geom = LineString(geom.exterior.coords)\n",
    "        # Transform geometry from pixel coordinates to spatial coordinates\n",
    "        geom_geo = rasterio.warp.transform_geom(src.crs, 'EPSG:4326', geom, precision=6)\n",
    "        shapes_geo.append(geom_geo)\n",
    "\n",
    "# Save the detected lines as a shapefile\n",
    "schema = {'geometry': 'LineString', 'properties': {'raster_val': 'int'}}\n",
    "with fiona.open('detected_lines2.shp', 'w', 'ESRI Shapefile', schema) as c:\n",
    "    for geom in shapes_geo:\n",
    "        c.write({\n",
    "            'geometry': geom,\n",
    "            'properties': {'raster_val': 255}  # Assuming the value is always 255\n",
    "        })\n",
    "\n",
    "print(\"Shapefile saved successfully.\")\n"
   ]
  }
 ],
 "metadata": {
  "kernelspec": {
   "display_name": "Python 3 (ipykernel)",
   "language": "python",
   "name": "python3"
  },
  "language_info": {
   "codemirror_mode": {
    "name": "ipython",
    "version": 3
   },
   "file_extension": ".py",
   "mimetype": "text/x-python",
   "name": "python",
   "nbconvert_exporter": "python",
   "pygments_lexer": "ipython3",
   "version": "3.12.2"
  }
 },
 "nbformat": 4,
 "nbformat_minor": 5
}
